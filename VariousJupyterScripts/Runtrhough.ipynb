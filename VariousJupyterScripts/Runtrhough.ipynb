{
 "cells": [
  {
   "cell_type": "markdown",
   "metadata": {},
   "source": [
    "## Import packages used"
   ]
  },
  {
   "cell_type": "code",
   "execution_count": 1,
   "metadata": {},
   "outputs": [],
   "source": [
    "import os\n",
    "os.chdir('/Users/m.egelundmuller/Documents/GitHub/midasmlpy')\n",
    "import numpy as np\n",
    "import pandas as pd\n",
    "from datetime import datetime\n",
    "from VariousJupyterScripts.date_functions import * # used to handle different frequencies of data and to create lags\n",
    "from VariousJupyterScripts.sparse_group_lasso import * # used to run the sparse group lasso and related functions\n",
    "from sklearn.model_selection import StratifiedKFold"
   ]
  },
  {
   "cell_type": "markdown",
   "metadata": {},
   "source": [
    "## Load data"
   ]
  },
  {
   "cell_type": "markdown",
   "metadata": {},
   "source": [
    "Load data from excel"
   ]
  },
  {
   "cell_type": "code",
   "execution_count": 2,
   "metadata": {},
   "outputs": [],
   "source": [
    "# load data from xlsx files and create a dataframe\n",
    "Predictors = pd.read_excel('midasmlpy/data_files/predictors-monthly.xlsx').to_numpy()\n",
    "Target = pd.read_excel('midasmlpy/data_files/recessions-quarterly.xlsx').to_numpy()"
   ]
  },
  {
   "cell_type": "markdown",
   "metadata": {},
   "source": [
    "Split data into dates and data tables"
   ]
  },
  {
   "cell_type": "code",
   "execution_count": 3,
   "metadata": {},
   "outputs": [],
   "source": [
    "# Y data and X and Y dates can also be defined as they are the same for all iterations\n",
    "Y_date = Target[:,0]\n",
    "Y = Target[:,1]\n",
    "X_date = Predictors[:,0]\n",
    "X = Predictors[:,1:]"
   ]
  },
  {
   "cell_type": "markdown",
   "metadata": {},
   "source": [
    "## Transform data using functions from data_functions"
   ]
  },
  {
   "cell_type": "markdown",
   "metadata": {},
   "source": [
    "Define variables ued in transformation"
   ]
  },
  {
   "cell_type": "code",
   "execution_count": 4,
   "metadata": {},
   "outputs": [],
   "source": [
    "# Lag variables\n",
    "x_lags = 3\n",
    "y_lags = 0\n",
    "horizon = 0\n",
    "\n",
    "# Legendre matrix\n",
    "legendre_degree = 4 # 3 degrees + polynomial 0"
   ]
  },
  {
   "cell_type": "markdown",
   "metadata": {},
   "source": [
    "Call data transformation function"
   ]
  },
  {
   "cell_type": "code",
   "execution_count": 5,
   "metadata": {},
   "outputs": [],
   "source": [
    "transformed_data = data_transform(Y, Y_date, X, X_date, x_lags, y_lags, horizon, legendre_degree=legendre_degree, standardize = True)"
   ]
  },
  {
   "cell_type": "markdown",
   "metadata": {},
   "source": [
    "## sgLasso"
   ]
  },
  {
   "cell_type": "markdown",
   "metadata": {},
   "source": [
    "Use log_sparse_four. Idea is: User inserts x_tilde, y, legendre degree"
   ]
  },
  {
   "cell_type": "code",
   "execution_count": 6,
   "metadata": {},
   "outputs": [],
   "source": [
    "# Function input\n",
    "x = transformed_data['X_tilde']\n",
    "y = transformed_data['Y']\n",
    "group_size = legendre_degree\n",
    "# sgLasso_estimation(x, y, group_size, alsparse, pmax = 100, intr = True, nlam=None, ulam=None)\n",
    "nlam = 50\n",
    "pmax = 122\n",
    "intr = True\n",
    "k_folds = 5\n",
    "alpha_values = 5"
   ]
  },
  {
   "cell_type": "code",
   "execution_count": 11,
   "metadata": {},
   "outputs": [],
   "source": [
    "# Parameters\n",
    "alsparse_values = np.linspace(1, 0, alpha_values)  # Testing alsparse values from 0 to 1\n",
    "\n",
    "# Dictionary to store the average maximized performances for each alsparse\n",
    "performance_dict = {}\n",
    "best_performance = 0\n",
    "best_alsparse = None\n",
    "b0, beta = None, None  # Initialize parameters that will store best model coefficients\n",
    "\n",
    "\n",
    "# Cross-validation process\n",
    "for alsparse in alsparse_values:\n",
    "    model_result = bestmodel(x,y,group_size, alsparse, nlam = nlam, pmax = pmax, intr = intr,k_folds = k_folds)\n",
    "    # Append the maximized performance of this fold\n",
    "    performance_dict[alsparse] = model_result['maximized_performance']\n",
    "    # If this fold has a higher maximized performance than the previous best, update the best performance\n",
    "    if model_result['maximized_performance']>best_performance:\n",
    "        best_performance = model_result['maximized_performance']\n",
    "        best_alsparse = alsparse\n",
    "        b0 = model_result['b0']\n",
    "        beta = model_result['beta'] \n",
    "\n",
    "best_performance = performance_dict[best_alsparse]"
   ]
  },
  {
   "cell_type": "code",
   "execution_count": 12,
   "metadata": {},
   "outputs": [
    {
     "data": {
      "text/plain": [
       "{1.0: 0.5,\n",
       " 0.75: 0.51,\n",
       " 0.5: 0.5033333333333333,\n",
       " 0.25: 0.5033333333333333,\n",
       " 0.0: 0.5033333333333333}"
      ]
     },
     "execution_count": 12,
     "metadata": {},
     "output_type": "execute_result"
    }
   ],
   "source": [
    "performance_dict"
   ]
  },
  {
   "cell_type": "markdown",
   "metadata": {},
   "source": [
    "### log_sparse_four testing"
   ]
  },
  {
   "cell_type": "code",
   "execution_count": 254,
   "metadata": {},
   "outputs": [],
   "source": [
    "# Function input\n",
    "x = transformed_data['X_tilde']\n",
    "y = transformed_data['Y']\n",
    "group_size = legendre_degree\n",
    "# sgLasso_estimation(x, y, group_size, alsparse, pmax = 100, intr = True, nlam=None, ulam=None)\n",
    "nlam = 50\n",
    "pmax = 122\n",
    "intr = True"
   ]
  },
  {
   "cell_type": "markdown",
   "metadata": {},
   "source": [
    "the sgLasso does not always return the same values despite getting the same input being generated. When using the exact same variables, it returns the same values."
   ]
  },
  {
   "cell_type": "code",
   "execution_count": 223,
   "metadata": {},
   "outputs": [
    {
     "name": "stdout",
     "output_type": "stream",
     "text": [
      "[ True  True  True  True  True  True  True  True  True  True  True  True\n",
      "  True  True  True  True  True  True  True  True  True  True  True  True\n",
      "  True  True  True  True  True  True  True  True  True  True  True  True\n",
      "  True  True  True  True  True  True  True  True  True  True  True  True\n",
      "  True  True]\n",
      "[0.         8.92991656 8.93006259 8.93020861 8.93035459 8.93050054\n",
      " 8.93064645 8.9307923  8.9309381  8.93108382 8.93122945 8.93725695\n",
      " 8.94325032 8.94859773 8.95346936 8.95776523 8.96158077 8.96506319\n",
      " 8.96817001 8.97097823 8.97350194 8.97575416 8.97780167 8.97959876\n",
      " 8.98126191 8.98279579 8.98415294 8.98533926 8.98641074 8.98742082\n",
      " 8.98837078 8.98920942 8.98994364 8.99057562 8.99120355 8.99177959\n",
      " 8.99225699 8.99268462 8.99311031 8.99348708 8.99386232 8.99414275\n",
      " 8.99442232 8.99470104 8.99493265 8.99516366 8.99534804 8.99553205\n",
      " 8.9956698  8.99580734]\n",
      "[0.         8.92991656 8.93006259 8.93020861 8.93035459 8.93050054\n",
      " 8.93064645 8.9307923  8.9309381  8.93108382 8.93122945 8.93725695\n",
      " 8.94325032 8.94859773 8.95346936 8.95776523 8.96158077 8.96506319\n",
      " 8.96817001 8.97097823 8.97350194 8.97575416 8.97780167 8.97959876\n",
      " 8.98126191 8.98279579 8.98415294 8.98533926 8.98641074 8.98742082\n",
      " 8.98837078 8.98920942 8.98994364 8.99057562 8.99120355 8.99177959\n",
      " 8.99225699 8.99268462 8.99311031 8.99348708 8.99386232 8.99414275\n",
      " 8.99442232 8.99470104 8.99493265 8.99516366 8.99534804 8.99553205\n",
      " 8.9956698  8.99580734]\n"
     ]
    }
   ],
   "source": [
    "# SG-Lasso function inputs\n",
    "alsparse = 0.5\n",
    "ulam = np.ones(nlam)\n",
    "nobs,nvars = x.shape[0], x.shape[1] # Number of observations and features\n",
    "eps = 1e-8 # Convergence threshold\n",
    "maxit = 1000000 # Maximum number of iterations\n",
    "bn = x.shape[1]//group_size # Number of groups as an integer\n",
    "bs = np.full(bn, group_size, dtype=int) # Elements in groups\n",
    "ix, iy =  list(range(0, nvars, group_size)), list(range(group_size-1, nvars, group_size)) # Placement og first column of each group in x\n",
    "gam = 0.25 * calc_gamma(x, ix, iy, bn) # Calculate gamma values for each group of features (columns) \n",
    "pf, pfl1 = np.sqrt(bs),np.ones(nvars) # Penalty factors for L2 and L1 penalties\n",
    "dfmax = bn + 1 # Maximum number of groups\n",
    "flmin = 0.01 if nobs < nvars else 1e-04\n",
    "lb,ub = np.full(bn, -np.inf),np.full(bn, np.inf) # Lower and upper bounds for the coefficients\n",
    "\n",
    "#When the function is run with the same input, it returns the same output\n",
    "b0a1 = sgl.log_sparse_four(x = x,\n",
    "                y = y, bn = bn, bs = bs, ix = ix, iy = iy, gam = gam, nobs = nobs, \n",
    "                nvars = nvars, pf = pf, pfl1 = pfl1, dfmax = dfmax, pmax = pmax, \n",
    "                nlam = nlam, flmin = flmin, ulam = ulam, eps = eps, maxit = maxit, \n",
    "                intr = intr, lb = lb, ub = ub, alsparse = alsparse)[1]\n",
    "b0b2 = sgl.log_sparse_four(x = x,\n",
    "                y = y, bn = bn, bs = bs, ix = ix, iy = iy, gam = gam, nobs = nobs, \n",
    "                nvars = nvars, pf = pf, pfl1 = pfl1, dfmax = dfmax, pmax = pmax, \n",
    "                nlam = nlam, flmin = flmin, ulam = ulam, eps = eps, maxit = maxit, \n",
    "                intr = intr, lb = lb, ub = ub, alsparse = alsparse)[1]\n",
    "print(b0a1==b0b2)\n",
    "print(b0a1)\n",
    "print(b0b2)"
   ]
  },
  {
   "cell_type": "markdown",
   "metadata": {},
   "source": [
    "Below values are deemed 'wrong'. The input has been saved after a previous run of above code with the same output. "
   ]
  },
  {
   "cell_type": "code",
   "execution_count": 230,
   "metadata": {},
   "outputs": [
    {
     "data": {
      "text/plain": [
       "array([0.00000000e+00, 8.92991656e+00, 8.93006259e+00, 8.93020861e+00,\n",
       "       8.93035459e+00, 8.93050054e+00, 8.93064645e+00, 8.93079230e+00,\n",
       "       8.93093810e+00, 8.93108382e+00, 8.93122945e+00, 8.93725695e+00,\n",
       "       8.94325032e+00, 8.94859773e+00, 8.95346936e+00, 8.95776523e+00,\n",
       "       8.96158077e+00, 8.96506319e+00, 8.96817001e+00, 8.97097823e+00,\n",
       "       8.97350194e+00, 8.97575416e+00, 8.97780167e+00, 8.97959876e+00,\n",
       "       8.98126191e+00, 8.98279579e+00, 8.98415294e+00, 8.98533926e+00,\n",
       "       8.98641074e+00, 8.98742082e+00, 1.11217363e-05, 1.11214800e-05,\n",
       "       1.11211396e-05, 1.11207226e-05, 1.11202357e-05, 1.11196835e-05,\n",
       "       1.11190696e-05, 1.11183975e-05, 1.11176713e-05, 1.11168940e-05,\n",
       "       1.11160698e-05, 1.11152027e-05, 1.11133893e-05, 1.11124462e-05,\n",
       "       1.11104938e-05, 1.11084806e-05, 1.11074463e-05, 1.11063864e-05,\n",
       "       1.11053032e-05, 1.11041989e-05])"
      ]
     },
     "execution_count": 230,
     "metadata": {},
     "output_type": "execute_result"
    }
   ],
   "source": [
    "# xw = x,\n",
    "# yw = y\n",
    "# bnw = bn\n",
    "# bsw = bs\n",
    "# ixw = ix\n",
    "# iyw = iy\n",
    "# gamw = gam\n",
    "# nobsw = nobs\n",
    "# nvarsw = nvars\n",
    "# pfw = pf\n",
    "# pfl1w = pfl1\n",
    "# dfmaxw = dfmax\n",
    "# pmaxw = pmax \n",
    "# nlamw = nlam\n",
    "# flminw = flmin\n",
    "# ulamw = ulam\n",
    "# epsw = eps\n",
    "# maxitw = maxit \n",
    "# intrw = intr\n",
    "# lbw = lb\n",
    "# ubw = ub\n",
    "# alsparsew = alsparse\n",
    "b0b = sgl.log_sparse_four(x = xw,\n",
    "                y = yw, bn = bnw, bs = bsw, ix = ixw, iy = iyw, gam = gamw, nobs = nobsw, \n",
    "                nvars = nvarsw, pf = pfw, pfl1 = pfl1w, dfmax = dfmaxw, pmax = pmaxw, \n",
    "                nlam = nlamw, flmin = flminw, ulam = ulamw, eps = epsw, maxit = maxitw, \n",
    "                intr = intrw, lb = lbw, ub = ubw, alsparse = alsparsew)[1]\n",
    "b0b"
   ]
  },
  {
   "cell_type": "markdown",
   "metadata": {},
   "source": [
    "Below output is deemed 'right'. The variables are saved from a previous run."
   ]
  },
  {
   "cell_type": "code",
   "execution_count": 225,
   "metadata": {},
   "outputs": [
    {
     "data": {
      "text/plain": [
       "array([0.        , 8.92991656, 8.93006259, 8.93020861, 8.93035459,\n",
       "       8.93050054, 8.93064645, 8.9307923 , 8.9309381 , 8.93108382,\n",
       "       8.93122945, 8.93725695, 8.94325032, 8.94859773, 8.95346936,\n",
       "       8.95776523, 8.96158077, 8.96506319, 8.96817001, 8.97097823,\n",
       "       8.97350194, 8.97575416, 8.97780167, 8.97959876, 8.98126191,\n",
       "       8.98279579, 8.98415294, 8.98533926, 8.98641074, 8.98742082,\n",
       "       8.98837078, 8.98920942, 8.98994364, 8.99057562, 8.99120355,\n",
       "       8.99177959, 8.99225699, 8.99268462, 8.99311031, 8.99348708,\n",
       "       8.99386232, 8.99414275, 8.99442232, 8.99470104, 8.99493265,\n",
       "       8.99516366, 8.99534804, 8.99553205, 8.9956698 , 8.99580734])"
      ]
     },
     "execution_count": 225,
     "metadata": {},
     "output_type": "execute_result"
    }
   ],
   "source": [
    "# xr = x\n",
    "# yr = y\n",
    "# bnr = bn\n",
    "# bsr = bs\n",
    "# ixr= ix \n",
    "# iyr = iy\n",
    "# gamr = gam\n",
    "# nobsr = nobs \n",
    "# nvarsr = nvars \n",
    "# pfr = pf\n",
    "# pfl1r = pfl1\n",
    "# dfmaxr = dfmax\n",
    "# pmaxr = pmax \n",
    "# nlamr = nlam\n",
    "# flminr = flmin\n",
    "# ulamr = ulam\n",
    "# epsr = eps\n",
    "# maxitr = maxit \n",
    "# intrr = intr\n",
    "# lbr = lb\n",
    "# ubr = ub\n",
    "# alsparser = alsparse\n",
    "b0a = sgl.log_sparse_four(x = xr,\n",
    "                y = yr, bn = bnr, bs = bsr, ix = ixr, iy = iyr, gam = gamr, nobs = nobsr, \n",
    "                nvars = nvarsr, pf = pfr, pfl1 = pfl1r, dfmax = dfmaxr, pmax = pmaxr, \n",
    "                nlam = nlamr, flmin = flminr, ulam = ulamr, eps = epsr, maxit = maxitr, \n",
    "                intr = intrr, lb = lbr, ub = ubr, alsparse = alsparser)[1]\n",
    "b0a"
   ]
  },
  {
   "cell_type": "markdown",
   "metadata": {},
   "source": [
    "When running the code with various input output combinations, it becomes apparent that it is the pfl1-input that causes the difference"
   ]
  },
  {
   "cell_type": "code",
   "execution_count": 239,
   "metadata": {},
   "outputs": [
    {
     "name": "stdout",
     "output_type": "stream",
     "text": [
      "[0.00000000e+00 8.92991656e+00 8.93006259e+00 8.93020861e+00\n",
      " 8.93035459e+00 8.93050054e+00 8.93064645e+00 8.93079230e+00\n",
      " 8.93093810e+00 8.93108382e+00 8.93122945e+00 8.93725695e+00\n",
      " 8.94325032e+00 8.94859773e+00 8.95346936e+00 8.95776523e+00\n",
      " 8.96158077e+00 8.96506319e+00 8.96817001e+00 8.97097823e+00\n",
      " 8.97350194e+00 8.97575416e+00 8.97780167e+00 8.97959876e+00\n",
      " 8.98126191e+00 8.98279579e+00 8.98415294e+00 8.98533926e+00\n",
      " 8.98641074e+00 8.98742082e+00 1.11217363e-05 1.11214800e-05\n",
      " 1.11211396e-05 1.11207226e-05 1.11202357e-05 1.11196835e-05\n",
      " 1.11190696e-05 1.11183975e-05 1.11176713e-05 1.11168940e-05\n",
      " 1.11160698e-05 1.11152027e-05 1.11133893e-05 1.11124462e-05\n",
      " 1.11104938e-05 1.11084806e-05 1.11074463e-05 1.11063864e-05\n",
      " 1.11053032e-05 1.11041989e-05]\n",
      "is equal to wrong value?:  True\n",
      "is equal to right value?:  False\n"
     ]
    }
   ],
   "source": [
    "# Right pfl1 input and wrong other inputs\n",
    "b0d = sgl.log_sparse_four(x = xr,\n",
    "                y = yr, bn = bnr, bs = bsr, ix = ixr, iy = iyr, gam = gamr, nobs = nobsr, \n",
    "                nvars = nvarsr, pf = pfr, pfl1 = pfl1w, dfmax = dfmaxr, pmax = pmaxr, \n",
    "                nlam = nlamr, flmin = flminr, ulam = ulamr, eps = epsr, maxit = maxitr, \n",
    "                intr = intrr, lb = lbr, ub = ubr, alsparse = alsparser)[1]\n",
    "print(b0d)\n",
    "print('is equal to wrong value?: ',np.array_equal(b0b,b0d))\n",
    "print('is equal to right value?: ',np.array_equal(b0a,b0d))"
   ]
  },
  {
   "cell_type": "markdown",
   "metadata": {},
   "source": [
    "The input are identical, both created using np.ones()"
   ]
  },
  {
   "cell_type": "code",
   "execution_count": 240,
   "metadata": {},
   "outputs": [
    {
     "data": {
      "text/plain": [
       "True"
      ]
     },
     "execution_count": 240,
     "metadata": {},
     "output_type": "execute_result"
    }
   ],
   "source": [
    "np.array_equal(pfl1r,pfl1w)"
   ]
  },
  {
   "cell_type": "markdown",
   "metadata": {},
   "source": [
    "When changing the wrong variable to an int or rounding up it, it only gets the correct output sometimes"
   ]
  },
  {
   "cell_type": "code",
   "execution_count": 241,
   "metadata": {},
   "outputs": [
    {
     "name": "stdout",
     "output_type": "stream",
     "text": [
      "[0.         8.92991656 8.93006259 8.93020861 8.93035459 8.93050054\n",
      " 8.93064645 8.9307923  8.9309381  8.93108382 8.93122945 8.93725695\n",
      " 8.94325032 8.94859773 8.95346936 8.95776523 8.96158077 8.96506319\n",
      " 8.96817001 8.97097823 8.97350194 8.97575416 8.97780167 8.97959876\n",
      " 8.98126191 8.98279579 8.98415294 8.98533926 8.98641074 8.98742082\n",
      " 8.98837078 8.98920942 8.98994364 8.99057562 8.99120355 8.99177959\n",
      " 8.99225699 8.99268462 8.99311031 8.99348708 8.99386232 8.99414275\n",
      " 8.99442232 8.99470104 8.99493265 8.99516366 8.99534804 8.99553205\n",
      " 8.9956698  8.99580734]\n",
      "is equal to wrong value?:  False\n",
      "is equal to right value?:  True\n"
     ]
    }
   ],
   "source": [
    "# wrong pfl1 input and right other inputs\n",
    "b0c = sgl.log_sparse_four(x = x,\n",
    "                y = yw, bn = bnw, bs = bsw, ix = ixw, iy = iyw, gam = gamw, nobs = nobsw, \n",
    "                nvars = nvarsw, pf = pfw, pfl1 = pfl1w.round(0), dfmax = dfmaxw, pmax = pmaxw, \n",
    "                nlam = nlamw, flmin = flminw, ulam = ulamw, eps = epsw, maxit = maxitw, \n",
    "                intr = intrw, lb = lbw, ub = ubw, alsparse = alsparsew)[1]\n",
    "print(b0c)\n",
    "print('is equal to wrong value?: ',np.array_equal(b0b,b0c))\n",
    "print('is equal to right value?: ',np.array_equal(b0a,b0c))"
   ]
  },
  {
   "cell_type": "code",
   "execution_count": 242,
   "metadata": {},
   "outputs": [
    {
     "name": "stdout",
     "output_type": "stream",
     "text": [
      "[0.00000000e+00 8.92991656e+00 8.93006259e+00 8.93020861e+00\n",
      " 8.93035459e+00 8.93050054e+00 8.93064645e+00 8.93079230e+00\n",
      " 8.93093810e+00 8.93108382e+00 8.93122945e+00 8.93725695e+00\n",
      " 8.94325032e+00 8.94859773e+00 8.95346936e+00 8.95776523e+00\n",
      " 8.96158077e+00 8.96506319e+00 8.96817001e+00 8.97097823e+00\n",
      " 8.97350194e+00 8.97575416e+00 8.97780167e+00 8.97959876e+00\n",
      " 8.98126191e+00 8.98279579e+00 8.98415294e+00 8.98533926e+00\n",
      " 8.98641074e+00 8.98742082e+00 1.11217363e-05 1.11214800e-05\n",
      " 1.11211396e-05 1.11207226e-05 1.11202357e-05 1.11196835e-05\n",
      " 1.11190696e-05 1.11183975e-05 1.11176713e-05 1.11168940e-05\n",
      " 1.11160698e-05 1.11152027e-05 1.11133893e-05 1.11124462e-05\n",
      " 1.11104938e-05 1.11084806e-05 1.11074463e-05 1.11063864e-05\n",
      " 1.11053032e-05 1.11041989e-05]\n",
      "is equal to wrong value?:  True\n",
      "is equal to right value?:  False\n"
     ]
    }
   ],
   "source": [
    "# wrong pfl1 input and right other inputs\n",
    "b0c = sgl.log_sparse_four(x = x,\n",
    "                y = yw, bn = bnw, bs = bsw, ix = ixw, iy = iyw, gam = gamw, nobs = nobsw, \n",
    "                nvars = nvarsw, pf = pfw, pfl1 = pfl1w.round(0), dfmax = dfmaxw, pmax = pmaxw, \n",
    "                nlam = nlamw, flmin = flminw, ulam = ulamw, eps = epsw, maxit = maxitw, \n",
    "                intr = intrw, lb = lbw, ub = ubw, alsparse = alsparsew)[1]\n",
    "print(b0c)\n",
    "print('is equal to wrong value?: ',np.array_equal(b0b,b0c))\n",
    "print('is equal to right value?: ',np.array_equal(b0a,b0c))"
   ]
  },
  {
   "cell_type": "markdown",
   "metadata": {},
   "source": [
    "And when copying the 'right' pfl1, but adding a decimal far down the line, the output is still ok"
   ]
  },
  {
   "cell_type": "code",
   "execution_count": 244,
   "metadata": {},
   "outputs": [],
   "source": [
    "pfl1rslight = np.copy(pfl1r)"
   ]
  },
  {
   "cell_type": "code",
   "execution_count": 252,
   "metadata": {},
   "outputs": [],
   "source": [
    "pfl1rslight[0]=1.0000001"
   ]
  },
  {
   "cell_type": "code",
   "execution_count": 253,
   "metadata": {},
   "outputs": [
    {
     "name": "stdout",
     "output_type": "stream",
     "text": [
      "[0.         8.92991656 8.93006259 8.93020861 8.93035459 8.93050054\n",
      " 8.93064645 8.9307923  8.9309381  8.93108382 8.93122945 8.93725695\n",
      " 8.94325032 8.94859773 8.95346936 8.95776523 8.96158077 8.96506319\n",
      " 8.96817001 8.97097823 8.97350194 8.97575416 8.97780167 8.97959876\n",
      " 8.98126191 8.98279579 8.98415294 8.98533926 8.98641074 8.98742082\n",
      " 8.98837078 8.98920942 8.98994364 8.99057562 8.99120355 8.99177959\n",
      " 8.99225699 8.99268462 8.99311031 8.99348708 8.99386232 8.99414275\n",
      " 8.99442232 8.99470104 8.99493265 8.99516366 8.99534804 8.99553205\n",
      " 8.9956698  8.99580734]\n",
      "is equal to wrong value?:  False\n",
      "is equal to right value?:  True\n"
     ]
    }
   ],
   "source": [
    "# wrong pfl1 input and right other inputs\n",
    "b0x = sgl.log_sparse_four(x = x,\n",
    "                y = yw, bn = bnw, bs = bsw, ix = ixw, iy = iyw, gam = gamw, nobs = nobsw, \n",
    "                nvars = nvarsw, pf = pfw, pfl1 = pfl1rslight, dfmax = dfmaxw, pmax = pmaxw, \n",
    "                nlam = nlamw, flmin = flminw, ulam = ulamw, eps = epsw, maxit = maxitw, \n",
    "                intr = intrw, lb = lbw, ub = ubw, alsparse = alsparsew)[1]\n",
    "print(b0x)\n",
    "print('is equal to wrong value?: ',np.array_equal(b0b,b0x))\n",
    "print('is equal to right value?: ',np.array_equal(b0a,b0x))"
   ]
  }
 ],
 "metadata": {
  "kernelspec": {
   "display_name": "Python 3",
   "language": "python",
   "name": "python3"
  },
  "language_info": {
   "codemirror_mode": {
    "name": "ipython",
    "version": 3
   },
   "file_extension": ".py",
   "mimetype": "text/x-python",
   "name": "python",
   "nbconvert_exporter": "python",
   "pygments_lexer": "ipython3",
   "version": "3.11.9"
  }
 },
 "nbformat": 4,
 "nbformat_minor": 2
}
