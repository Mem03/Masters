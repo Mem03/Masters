{
 "cells": [
  {
   "cell_type": "markdown",
   "metadata": {},
   "source": [
    "## Import packages used"
   ]
  },
  {
   "cell_type": "code",
   "execution_count": null,
   "metadata": {},
   "outputs": [],
   "source": [
    "import os\n",
    "os.chdir('/Users/m.egelundmuller/Documents/GitHub/midasmlpy')\n",
    "import numpy as np\n",
    "import pandas as pd\n",
    "from datetime import datetime\n",
    "from VariousJupyterScripts.date_functions import * # used to handle different frequencies of data and to create lags\n",
    "from VariousJupyterScripts.sparse_group_lasso import bestmodel\n",
    "from sklearn.model_selection import KFold"
   ]
  },
  {
   "cell_type": "markdown",
   "metadata": {},
   "source": [
    "## Load data"
   ]
  },
  {
   "cell_type": "markdown",
   "metadata": {},
   "source": [
    "Load data from excel"
   ]
  },
  {
   "cell_type": "code",
   "execution_count": null,
   "metadata": {},
   "outputs": [],
   "source": [
    "# load data from xlsx files and create a dataframe\n",
    "Predictors = pd.read_excel('midasmlpy/data_files/predictors-monthly.xlsx').to_numpy()\n",
    "Target = pd.read_excel('midasmlpy/data_files/recessions-quarterly.xlsx').to_numpy()"
   ]
  },
  {
   "cell_type": "markdown",
   "metadata": {},
   "source": [
    "Split data into dates and data tables"
   ]
  },
  {
   "cell_type": "code",
   "execution_count": null,
   "metadata": {},
   "outputs": [],
   "source": [
    "# Y data and X and Y dates can also be defined as they are the same for all iterations\n",
    "Y_date = Target[:,0]\n",
    "Y = Target[:,1]\n",
    "X_date = Predictors[:,0]\n",
    "X = Predictors[:,1:]"
   ]
  },
  {
   "cell_type": "markdown",
   "metadata": {},
   "source": [
    "## Transform data using functions from data_functions"
   ]
  },
  {
   "cell_type": "markdown",
   "metadata": {},
   "source": [
    "Define variables ued in transformation"
   ]
  },
  {
   "cell_type": "code",
   "execution_count": null,
   "metadata": {},
   "outputs": [],
   "source": [
    "# Lag variables\n",
    "x_lags = 3\n",
    "y_lags = 0\n",
    "horizon = 0\n",
    "\n",
    "# Legendre matrix\n",
    "legendre_degree = 3"
   ]
  },
  {
   "cell_type": "markdown",
   "metadata": {},
   "source": [
    "Call data transformation function"
   ]
  },
  {
   "cell_type": "code",
   "execution_count": null,
   "metadata": {},
   "outputs": [],
   "source": [
    "transformed_data = data_transform(Y, Y_date, X, X_date, x_lags, y_lags, horizon, legendre_degree=3, standardize = True)"
   ]
  },
  {
   "cell_type": "markdown",
   "metadata": {},
   "source": [
    "## sgLasso"
   ]
  },
  {
   "cell_type": "markdown",
   "metadata": {},
   "source": [
    "Use log_sparse_four. Idea is: User inserts x_tilde, y, legendre degree"
   ]
  },
  {
   "cell_type": "code",
   "execution_count": null,
   "metadata": {},
   "outputs": [],
   "source": [
    "# Function input\n",
    "x = transformed_data['X_tilde']\n",
    "y = transformed_data['Y']\n",
    "group_size = legendre_degree\n",
    "alsparse = 0.5\n",
    "# nalam, b0, beta, activeGroup, nbeta, alam, npass, jerr = sgl(x, y, group_size, alsparse, intr = True, pmax = 366)\n",
    "nlam = 100\n",
    "pmax = 122\n",
    "intr = True\n",
    "k_folds = 5"
   ]
  },
  {
   "cell_type": "code",
   "execution_count": null,
   "metadata": {},
   "outputs": [],
   "source": [
    "# bestmodel = bestmodel(x,y,group_size, alsparse, nlam = 100, pmax = 122, intr = True,k_folds = 5)\n",
    "# bestmodel['maximized_performance']"
   ]
  },
  {
   "cell_type": "code",
   "execution_count": null,
   "metadata": {},
   "outputs": [],
   "source": [
    "# Parameters\n",
    "alsparse_values = np.linspace(0, 1, 21)  # Testing alsparse from 0 to 1 in steps of 0.1\n",
    "\n",
    "# Dictionary to store the average maximized performances for each alsparse\n",
    "performance_dict = {}\n",
    "\n",
    "# Cross-validation process\n",
    "for alsparse in alsparse_values:\n",
    "    performances = []\n",
    "    model_result = bestmodel(x,y,group_size, alsparse, nlam = 100, pmax = 122, intr = True,k_folds = 5)\n",
    "    # Append the maximized performance of this fold\n",
    "    performance_dict[alsparse] = model_result['maximized_performance']\n",
    "\n",
    "\n",
    "# Determine the alsparse value with the highest average maximized performance\n",
    "best_alsparse = max(performance_dict, key=performance_dict.get)\n",
    "best_performance = performance_dict[best_alsparse]"
   ]
  },
  {
   "cell_type": "code",
   "execution_count": null,
   "metadata": {},
   "outputs": [],
   "source": [
    "performance_dict"
   ]
  }
 ],
 "metadata": {
  "kernelspec": {
   "display_name": "Python 3",
   "language": "python",
   "name": "python3"
  },
  "language_info": {
   "codemirror_mode": {
    "name": "ipython",
    "version": 3
   },
   "file_extension": ".py",
   "mimetype": "text/x-python",
   "name": "python",
   "nbconvert_exporter": "python",
   "pygments_lexer": "ipython3",
   "version": "3.11.9"
  }
 },
 "nbformat": 4,
 "nbformat_minor": 2
}
