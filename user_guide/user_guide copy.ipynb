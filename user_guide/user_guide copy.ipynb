{
 "cells": [
  {
   "cell_type": "markdown",
   "metadata": {},
   "source": [
    "## Import packages used"
   ]
  },
  {
   "cell_type": "code",
   "execution_count": 2,
   "metadata": {},
   "outputs": [],
   "source": [
    "import numpy as np\n",
    "import pandas as pd\n",
    "from datetime import datetime\n",
    "import midasmlpy.date_functions as datef # used to handle different frequencies of data and to create lags\n",
    "import midasmlpy.sparse_group_lasso as sgl # used to run the sparse group lasso and related functions\n",
    "from sklearn.model_selection import train_test_split"
   ]
  },
  {
   "cell_type": "markdown",
   "metadata": {},
   "source": [
    "## Load data"
   ]
  },
  {
   "cell_type": "markdown",
   "metadata": {},
   "source": [
    "Load data from excel"
   ]
  },
  {
   "cell_type": "code",
   "execution_count": 3,
   "metadata": {},
   "outputs": [],
   "source": [
    "# load data from xlsx files and create a dataframe\n",
    "Predictors = pd.read_excel('/Users/m.egelundmuller/Documents/GitHub/midasmlpy/user_guide/predictors-monthly.xlsx').to_numpy()\n",
    "Target = pd.read_excel('/Users/m.egelundmuller/Documents/GitHub/midasmlpy/user_guide/gdp-quarterly.xlsx').to_numpy()"
   ]
  },
  {
   "cell_type": "markdown",
   "metadata": {},
   "source": [
    "Split data into dates and data tables"
   ]
  },
  {
   "cell_type": "code",
   "execution_count": 4,
   "metadata": {},
   "outputs": [],
   "source": [
    "# Y data and X and Y dates can also be defined as they are the same for all iterations\n",
    "Y_date = Target[:,0]\n",
    "Y = Target[:,1]\n",
    "X_date = Predictors[:,0]\n",
    "X = Predictors[:,1:12]"
   ]
  },
  {
   "cell_type": "markdown",
   "metadata": {},
   "source": [
    "## Transform data using functions from data_functions"
   ]
  },
  {
   "cell_type": "markdown",
   "metadata": {},
   "source": [
    "Define variables ued in transformation"
   ]
  },
  {
   "cell_type": "code",
   "execution_count": 5,
   "metadata": {},
   "outputs": [],
   "source": [
    "# Lag variables\n",
    "x_lags = 3\n",
    "y_lags = 0\n",
    "horizon = 0\n",
    "\n",
    "# Legendre matrix\n",
    "legendre_degree = 2 # 3 degrees + polynomial 0"
   ]
  },
  {
   "cell_type": "markdown",
   "metadata": {},
   "source": [
    "Call data transformation function"
   ]
  },
  {
   "cell_type": "code",
   "execution_count": 6,
   "metadata": {},
   "outputs": [],
   "source": [
    "transformed_data = datef.data_transform(Y, Y_date, X, X_date, x_lags, y_lags, horizon, legendre_degree=legendre_degree, standardize = True)"
   ]
  },
  {
   "cell_type": "code",
   "execution_count": 7,
   "metadata": {},
   "outputs": [],
   "source": [
    "x = transformed_data['X_tilde']\n",
    "y = transformed_data['Y']\n",
    "\n",
    "# # Split x and y into a 80/20 train test split\n",
    "train_size = int(0.8*x.shape[0])\n",
    "x_train, x_test = x[:train_size], x[train_size:]\n",
    "y_train, y_test = y[:train_size], y[train_size:]"
   ]
  },
  {
   "cell_type": "markdown",
   "metadata": {},
   "source": [
    "## sgLasso"
   ]
  },
  {
   "cell_type": "code",
   "execution_count": 8,
   "metadata": {},
   "outputs": [],
   "source": [
    "import sparsegllog_compiled\n",
    "from scipy.sparse.linalg import svds"
   ]
  },
  {
   "cell_type": "code",
   "execution_count": 9,
   "metadata": {},
   "outputs": [],
   "source": [
    "group_size = legendre_degree\n",
    "alsparse = 0.95\n",
    "pmax = 22\n",
    "intr = True\n",
    "nlam=None\n",
    "ulam=None\n",
    "\n",
    "#function to run the sparse group lasso\n",
    "if ulam is not None:\n",
    "    ulam = np.array(ulam)\n",
    "    nlam = len(ulam)  # Override nlam based on the length of ulam if ulam is provided\n",
    "elif nlam is None:\n",
    "    nlam = 100  # Default value if neither ulam nor nlam is provided\n",
    "\n",
    "if ulam is None:\n",
    "    ulam = np.ones(nlam)  # Default ulam if not provided\n",
    "\n",
    "nobs,nvars = x.shape[0], x.shape[1] # Number of observations and features\n",
    "eps = 0.1 # Convergence threshold\n",
    "maxit = 3e8 # Maximum number of iterations\n",
    "bn = x.shape[1]//group_size # Number of groups as an integer\n",
    "bs = np.full(bn, group_size, dtype=int) # Elements in groups\n",
    "ix, iy =  np.array(range(0, nvars, group_size)), np.array(range(group_size-1, nvars, group_size)) # Placement og first column of each group in x\n",
    "gam = 0.25 * sgl.calc_gamma(x, ix, iy, bn) # Calculate gamma values for each group of features (columns) \n",
    "pf, pfl1 = np.sqrt(bs),np.ones(nvars) # Penalty factors for L2 and L1 penalties\n",
    "dfmax = bn + 1 # Maximum number of groups\n",
    "flmin = 0.01 if nobs < nvars else 1e-04\n",
    "lb,ub = np.full(bn, -np.inf),np.full(bn, np.inf) # Lower and upper bounds for the coefficients\n"
   ]
  },
  {
   "cell_type": "code",
   "execution_count": 10,
   "metadata": {},
   "outputs": [],
   "source": [
    "nalam, b0, beta, activeGroup, nbeta, alam, npass, jerr, mse = sparsegllog_compiled.sparse_four(x = x,\n",
    "                y = y, bn = bn, bs = bs, \n",
    "                ix = ix + 1, iy = iy + 1, # iy and ix are +1 as fortran is index 1 while python is index 0\n",
    "                gam = gam, nobs = nobs, \n",
    "                nvars = nvars, pf = pf, pfl1 = pfl1, dfmax = dfmax, pmax = pmax, \n",
    "                nlam = nlam, flmin = flmin, ulam = ulam, eps = eps, maxit = maxit, \n",
    "                intr = intr, lb = lb, ub = ub, alsparse = alsparse)\n",
    "if jerr != 0:\n",
    "    raise ValueError(\"Error in the sparse group lasso estimation.\")\n",
    "if npass == maxit:\n",
    "    raise ValueError(\"Failed to converge in the sparse group lasso estimation.\")"
   ]
  },
  {
   "cell_type": "code",
   "execution_count": null,
   "metadata": {},
   "outputs": [
    {
     "data": {
      "text/plain": [
       "375"
      ]
     },
     "execution_count": 23,
     "metadata": {},
     "output_type": "execute_result"
    }
   ],
   "source": [
    "npass"
   ]
  }
 ],
 "metadata": {
  "kernelspec": {
   "display_name": "Python 3",
   "language": "python",
   "name": "python3"
  },
  "language_info": {
   "codemirror_mode": {
    "name": "ipython",
    "version": 3
   },
   "file_extension": ".py",
   "mimetype": "text/x-python",
   "name": "python",
   "nbconvert_exporter": "python",
   "pygments_lexer": "ipython3",
   "version": "3.11.9"
  }
 },
 "nbformat": 4,
 "nbformat_minor": 2
}
